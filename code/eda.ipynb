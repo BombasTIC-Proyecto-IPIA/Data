{
 "cells": [
  {
   "cell_type": "code",
   "execution_count": null,
   "metadata": {},
   "outputs": [],
   "source": [
    "import pandas as pd\n",
    "import numpy as np\n",
    "import seaborn as sns\n",
    "import matplotlib.pyplot as plt\n",
    "import zipfile\n",
    "import cv2\n",
    "from skimage import io\n",
    "import tensorflow as tf\n",
    "from tensorflow.python.keras import Sequential\n",
    "from tensorflow.keras import layers, optimizers\n",
    "from tensorflow.keras.applications import DenseNet121\n",
    "from tensorflow.keras.applications.resnet50 import ResNet50\n",
    "from tensorflow.keras.layers import *\n",
    "from tensorflow.keras.models import Model, load_model\n",
    "from tensorflow.keras.initializers import glorot_uniform\n",
    "from tensorflow.keras.utils import plot_model\n",
    "from tensorflow.keras.callbacks import ReduceLROnPlateau, EarlyStopping, ModelCheckpoint, LearningRateScheduler\n",
    "from IPython.display import display\n",
    "from tensorflow.keras import backend as K\n",
    "from sklearn.preprocessing import StandardScaler, normalize\n",
    "import os\n",
    "import glob\n",
    "import random\n",
    "import plotly.graph_objects as go\n",
    "from PIL import Image\n",
    "# from google.colab import files #Librería para cargar ficheros directamente en Colab\n",
    "%matplotlib inline"
   ]
  },
  {
   "cell_type": "code",
   "execution_count": null,
   "metadata": {},
   "outputs": [],
   "source": [
    "df = pd.read_csv('./data_mask.csv')"
   ]
  },
  {
   "cell_type": "code",
   "execution_count": null,
   "metadata": {},
   "outputs": [],
   "source": [
    "df.info()"
   ]
  },
  {
   "cell_type": "code",
   "execution_count": null,
   "metadata": {},
   "outputs": [],
   "source": [
    "df.head(50)"
   ]
  },
  {
   "cell_type": "code",
   "execution_count": null,
   "metadata": {},
   "outputs": [],
   "source": [
    "df['mask'].value_counts()"
   ]
  },
  {
   "cell_type": "code",
   "execution_count": null,
   "metadata": {},
   "outputs": [],
   "source": [
    "df.duplicated().value_counts()"
   ]
  },
  {
   "attachments": {},
   "cell_type": "markdown",
   "metadata": {},
   "source": [
    "## Mini reto\n",
    "\n",
    "1. ¿Tenemos un dataset balanceado?\n",
    "2. ¿Cuantas muestras están marcadas como 'paciente sano'?"
   ]
  },
  {
   "attachments": {},
   "cell_type": "markdown",
   "metadata": {},
   "source": [
    "\n",
    "1. El dataset no esta balanceado con un 65.08% de pacientes sanos y un 34.98% de pacientes con tumores cerebrales en resumen el dataset no esta balanceado\n",
    "\n",
    "2. 2556 Son pacientes sanos"
   ]
  },
  {
   "cell_type": "code",
   "execution_count": null,
   "metadata": {},
   "outputs": [],
   "source": [
    "counts = df['mask'].value_counts()\n",
    "\n",
    "# Crear figura de barras\n",
    "fig = go.Figure(data=go.Bar(x=counts.index, y=counts.values))\n",
    "\n",
    "# Personalizar diseño y estilo\n",
    "fig.update_layout(\n",
    "    title='Conteo de valores en la columna \"mask\"',\n",
    "    xaxis=dict(title='Valores'),\n",
    "    yaxis=dict(title='Conteo'),\n",
    "    hovermode='x'\n",
    ")\n",
    "\n",
    "# Mostrar figura interactiva\n",
    "fig.show()"
   ]
  },
  {
   "cell_type": "code",
   "execution_count": null,
   "metadata": {},
   "outputs": [],
   "source": [
    "df['mask_path'].head(50)"
   ]
  },
  {
   "cell_type": "code",
   "execution_count": null,
   "metadata": {},
   "outputs": [],
   "source": [
    "df['image_path'].head(50)"
   ]
  },
  {
   "cell_type": "code",
   "execution_count": null,
   "metadata": {},
   "outputs": [],
   "source": [
    "# Ruta de la imagen\n",
    "ruta_imagen = './TCGA_CS_4941_19960909/TCGA_CS_4941_19960909_10_mask.tif'\n",
    "\n",
    "# Leer la imagen\n",
    "imagen = plt.imread(ruta_imagen)\n",
    "\n",
    "# Mostrar la imagen\n",
    "plt.imshow(imagen)\n",
    "plt.axis('off')  # Opcional: quitar los ejes\n",
    "plt.show()"
   ]
  },
  {
   "cell_type": "code",
   "execution_count": null,
   "metadata": {},
   "outputs": [],
   "source": [
    "# Ruta de la imagen\n",
    "ruta_imagen = './TCGA_CS_4943_20000902/TCGA_CS_4943_20000902_10.tif'\n",
    "\n",
    "# Leer la imagen\n",
    "imagen = plt.imread(ruta_imagen)\n",
    "\n",
    "# Mostrar la imagen\n",
    "plt.imshow(imagen)\n",
    "plt.axis('off')  # Opcional: quitar los ejes\n",
    "plt.show()"
   ]
  },
  {
   "cell_type": "code",
   "execution_count": null,
   "metadata": {},
   "outputs": [],
   "source": [
    "# Supongamos que tienes un dataset de imágenes MRI y máscaras almacenadas en dos listas separadas\n",
    "mri_images = ['TCGA_CS_5395_19981004/TCGA_CS_5395_19981004_1.tif']  # Lista de imágenes MRI\n",
    "masks = ['TCGA_CS_5395_19981004/TCGA_CS_5395_19981004_1_mask.tif']  # Lista de máscaras correspondientes\n",
    "\n",
    "# Supongamos que quieres visualizar la primera imagen y su máscara correspondiente\n",
    "mri_image = mri_images[0]\n",
    "mask = masks[0]\n",
    "\n",
    "# Cargar la imagen MRI y la máscara\n",
    "mri = Image.open(mri_image)\n",
    "mask = Image.open(mask)\n",
    "\n",
    "# Convertir las imágenes a arrays numpy\n",
    "mri_array = np.array(mri)\n",
    "mask_array = np.array(mask)\n",
    "\n",
    "# Visualización de la imagen MRI\n",
    "plt.figure()\n",
    "plt.imshow(mri_array, cmap='gray')\n",
    "plt.title('MRI Image')\n",
    "plt.axis('off')\n",
    "plt.show()\n",
    "\n",
    "# Visualización de la máscara\n",
    "plt.figure()\n",
    "plt.imshow(mask_array, cmap='gray')\n",
    "plt.title('Mask')\n",
    "plt.axis('off')\n",
    "plt.show()"
   ]
  },
  {
   "cell_type": "code",
   "execution_count": null,
   "metadata": {},
   "outputs": [],
   "source": [
    "# Seleccionar aleatoriamente 12 muestras del dataset\n",
    "muestras_aleatorias = df.sample(n=12)\n",
    "\n",
    "# Crear una figura con subplots de 4 filas y 3 columnas\n",
    "fig, axs = plt.subplots(4, 3, figsize=(10, 12))\n",
    "\n",
    "# Iterar sobre los subplots y mostrar las imágenes y máscaras correspondientes\n",
    "for i, ax in enumerate(axs.flat):\n",
    "    muestra = muestras_aleatorias.iloc[i]\n",
    "    \n",
    "    # Leer la imagen y la máscara correspondiente\n",
    "    imagen = plt.imread(muestra['image_path'])\n",
    "    mascara = plt.imread(muestra['mask_path'])\n",
    "    \n",
    "    # Mostrar la imagen de MRI\n",
    "    ax.imshow(imagen, cmap='gray')\n",
    "    \n",
    "    # Mostrar la máscara en rojo (superponiendo la imagen de MRI)\n",
    "    ax.imshow(mascara, cmap='Reds', alpha=0.5)  \n",
    "    \n",
    "    # Desactivar los ejes y el etiquetado\n",
    "    ax.axis('off')\n",
    "\n",
    "# Ajustar el espaciado entre los subplots\n",
    "plt.tight_layout()\n",
    "\n",
    "# Mostrar la figura\n",
    "plt.show()"
   ]
  },
  {
   "attachments": {},
   "cell_type": "markdown",
   "metadata": {},
   "source": [
    "## Mini reto tres\n",
    "\n",
    "1. ¿Cuál es el rendimiento de ResNet en el conjunto de datos ImageNet?\n",
    "\n",
    "R = ResNet ha demostrado un rendimiento sobresaliente en el conjunto de datos ImageNet. Se han utilizado diferentes variantes de ResNet en competiciones de clasificación de ImageNet, y han obtenido tasas de error muy bajas. Aquí tienes algunos ejemplos de tasas de error reportadas por diferentes variantes de ResNet en la competición ImageNet:\n",
    "\n",
    "ResNet-18: Error top-1 del 30.24% y error top-5 del 10.92%.\n",
    "ResNet-34: Error top-1 del 26.70% y error top-5 del 8.58%.\n",
    "ResNet-50: Error top-1 del 23.85% y error top-5 del 7.13%.\n",
    "ResNet-101: Error top-1 del 22.63% y error top-5 del 6.44%.\n",
    "ResNet-152: Error top-1 del 21.69% y error top-5 del 5.94%.\n",
    "Estas tasas de error representan la precisión de la red, por lo que cuanto más bajo sea el valor, mejor será el rendimiento de la red en la clasificación de imágenes."
   ]
  },
  {
   "cell_type": "markdown",
   "metadata": {},
   "source": [
    "2. Explora otras arquitecturas de RNC como AlexNet y enumera su rendimiento en comparación\n",
    "con ResNet (se requiere investigación externa).\n",
    "\n",
    "R= AlexNet es una arquitectura de red neuronal convolucional pionera que demostró el poder de las CNN en la clasificación de imágenes en el conjunto de datos ImageNet. Aquí tienes un ejemplo del rendimiento de AlexNet en la competición ImageNet:\n",
    "\n",
    "AlexNet: Error top-1 del 37.5% y error top-5 del 17.0%.\n",
    "Comparado con las tasas de error de ResNet que mencioné anteriormente, se puede observar que ResNet supera a AlexNet en términos de precisión en la clasificación de ImageNet. ResNet logró reducir significativamente el error top-1 y el error top-5 en comparación con AlexNet.\n",
    "\n",
    "Es importante tener en cuenta que estos resultados pueden variar según las configuraciones y los conjuntos de datos utilizados, y que el campo de la visión por computadora está en constante evolución, por lo que pueden haber surgido nuevas arquitecturas y mejoras desde la última información disponible."
   ]
  },
  {
   "cell_type": "markdown",
   "metadata": {},
   "source": [
    "### Mini reto cuatro\n",
    "\n",
    "1. Enumere los desafíos del aprendizaje por transferencia (se requiere investigación externa)\n",
    "\n",
    "El aprendizaje por transferencia es una técnica en la que los conocimientos adquiridos al resolver un problema se transfieren y aplican para resolver otro problema relacionado. Aunque el aprendizaje por transferencia puede proporcionar beneficios significativos, también presenta algunos desafíos. A continuación, enumero algunos de estos desafíos:\n",
    "\n",
    "1. Selección del modelo de origen adecuado: Elegir el modelo de origen adecuado para la transferencia es un desafío clave. El modelo de origen debe tener características y conocimientos relevantes para el problema objetivo. La selección incorrecta del modelo de origen puede llevar a una transferencia ineficaz o incluso perjudicial.\n",
    "\n",
    "2. Divergencia de dominio: La divergencia de dominio ocurre cuando los datos de origen y los datos de destino provienen de distribuciones diferentes. Si hay una gran diferencia entre los dominios, el rendimiento de la transferencia puede verse afectado negativamente. Adaptar el modelo de origen para que se ajuste al dominio del problema objetivo puede ser un desafío.\n",
    "\n",
    "3. Desajuste de tareas: El desajuste de tareas ocurre cuando la tarea de origen y la tarea objetivo son diferentes. Aunque el aprendizaje por transferencia puede ser efectivo cuando las tareas son similares, el desajuste de tareas puede limitar la transferencia de conocimientos. Es importante encontrar una tarea de origen que sea lo más similar posible a la tarea objetivo para obtener los mejores resultados.\n",
    "\n",
    "4. Disponibilidad de datos etiquetados: En el aprendizaje por transferencia, es común utilizar datos no etiquetados del dominio de origen junto con datos etiquetados del dominio de destino. Sin embargo, puede ser difícil obtener datos etiquetados en el dominio de destino, lo que limita la capacidad de ajustar el modelo de manera óptima.\n",
    "\n",
    "5. Interferencia de conocimientos previos: A veces, los conocimientos previos del modelo de origen pueden interferir con la capacidad del modelo para aprender nuevas tareas en el dominio de destino. La transferencia de conocimientos puede ser demasiado fuerte o inapropiada, lo que afecta negativamente el rendimiento en la tarea objetivo.\n",
    "\n",
    "Estos desafíos demuestran que el aprendizaje por transferencia no es una solución universal y que requiere un cuidadoso análisis y ajuste para lograr los mejores resultados en un nuevo problema."
   ]
  }
 ],
 "metadata": {
  "kernelspec": {
   "display_name": "Python 3",
   "language": "python",
   "name": "python3"
  },
  "language_info": {
   "codemirror_mode": {
    "name": "ipython",
    "version": 3
   },
   "file_extension": ".py",
   "mimetype": "text/x-python",
   "name": "python",
   "nbconvert_exporter": "python",
   "pygments_lexer": "ipython3",
   "version": "3.9.13"
  },
  "orig_nbformat": 4
 },
 "nbformat": 4,
 "nbformat_minor": 2
}
